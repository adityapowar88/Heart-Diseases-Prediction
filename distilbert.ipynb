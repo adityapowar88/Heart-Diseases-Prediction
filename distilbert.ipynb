{
 "cells": [
  {
   "cell_type": "code",
   "execution_count": 2,
   "metadata": {
    "execution": {
     "iopub.execute_input": "2022-03-03T08:50:40.063200Z",
     "iopub.status.busy": "2022-03-03T08:50:40.062918Z",
     "iopub.status.idle": "2022-03-03T08:50:46.596314Z",
     "shell.execute_reply": "2022-03-03T08:50:46.595630Z",
     "shell.execute_reply.started": "2022-03-03T08:50:40.063164Z"
    }
   },
   "outputs": [],
   "source": [
    "import pandas as pd\n",
    "import tensorflow as tf\n",
    "import transformers\n",
    "from transformers import DistilBertTokenizer\n",
    "from transformers import TFDistilBertForSequenceClassification\n",
    "pd.set_option('display.max_colwidth', None)\n",
    "MODEL_NAME = '../input/distilbertbaseuncasedfinetunedsst2english/distilbert-base-uncased-finetuned-sst-2-english'\n",
    "BATCH_SIZE = 32\n",
    "N_EPOCHS = 1"
   ]
  },
  {
   "cell_type": "code",
   "execution_count": 3,
   "metadata": {
    "execution": {
     "iopub.execute_input": "2022-03-03T08:50:46.597747Z",
     "iopub.status.busy": "2022-03-03T08:50:46.597500Z",
     "iopub.status.idle": "2022-03-03T08:50:48.080826Z",
     "shell.execute_reply": "2022-03-03T08:50:48.080026Z",
     "shell.execute_reply.started": "2022-03-03T08:50:46.597715Z"
    }
   },
   "outputs": [],
   "source": [
    "train_df = pd.read_csv(\"input-file.csv\")"
   ]
  },
  {
   "cell_type": "code",
   "execution_count": 4,
   "metadata": {
    "execution": {
     "iopub.execute_input": "2022-03-03T08:50:48.082496Z",
     "iopub.status.busy": "2022-03-03T08:50:48.082123Z",
     "iopub.status.idle": "2022-03-03T08:50:48.117022Z",
     "shell.execute_reply": "2022-03-03T08:50:48.114661Z",
     "shell.execute_reply.started": "2022-03-03T08:50:48.082461Z"
    }
   },
   "outputs": [],
   "source": [
    "tgt_num = dict(enumerate(train_df['discourse_type'].unique().tolist()))\n",
    "tgt_txt = {v: k for k, v in tgt_num.items()}\n",
    "print(tgt_num)\n",
    "print(tgt_txt)"
   ]
  },
  {
   "cell_type": "code",
   "execution_count": 5,
   "metadata": {
    "execution": {
     "iopub.execute_input": "2022-03-03T08:50:48.123572Z",
     "iopub.status.busy": "2022-03-03T08:50:48.121640Z",
     "iopub.status.idle": "2022-03-03T08:50:48.167431Z",
     "shell.execute_reply": "2022-03-03T08:50:48.166796Z",
     "shell.execute_reply.started": "2022-03-03T08:50:48.123537Z"
    }
   },
   "outputs": [],
   "source": [
    "train_df['targets'] = train_df['discourse_type'].map(tgt_txt)\n",
    "print(train_df.head(1))"
   ]
  },
  {
   "cell_type": "code",
   "execution_count": 6,
   "metadata": {
    "execution": {
     "iopub.execute_input": "2022-03-03T08:50:48.172876Z",
     "iopub.status.busy": "2022-03-03T08:50:48.171016Z",
     "iopub.status.idle": "2022-03-03T08:50:48.285647Z",
     "shell.execute_reply": "2022-03-03T08:50:48.284889Z",
     "shell.execute_reply.started": "2022-03-03T08:50:48.172841Z"
    }
   },
   "outputs": [],
   "source": [
    "training_data = train_df.sample(frac=0.8, random_state=25)\n",
    "testing_data = train_df.drop(training_data.index)\n",
    "\n",
    "print(f\"No. of training examples: {training_data.shape[0]}\")\n",
    "print(f\"No. of testing examples: {testing_data.shape[0]}\")"
   ]
  },
  {
   "cell_type": "code",
   "execution_count": 7,
   "metadata": {
    "execution": {
     "iopub.execute_input": "2022-03-03T08:50:48.291397Z",
     "iopub.status.busy": "2022-03-03T08:50:48.289463Z",
     "iopub.status.idle": "2022-03-03T08:50:48.297699Z",
     "shell.execute_reply": "2022-03-03T08:50:48.297036Z",
     "shell.execute_reply.started": "2022-03-03T08:50:48.291356Z"
    }
   },
   "outputs": [],
   "source": [
    "X_train = training_data.discourse_text\n",
    "X_test  = testing_data.discourse_text\n",
    "Y_train = training_data.targets\n",
    "Y_test  = testing_data.targets\n"
   ]
  },
  {
   "cell_type": "code",
   "execution_count": 8,
   "metadata": {
    "execution": {
     "iopub.execute_input": "2022-03-03T08:50:48.304103Z",
     "iopub.status.busy": "2022-03-03T08:50:48.301912Z",
     "iopub.status.idle": "2022-03-03T08:50:48.316433Z",
     "shell.execute_reply": "2022-03-03T08:50:48.315638Z",
     "shell.execute_reply.started": "2022-03-03T08:50:48.304067Z"
    }
   },
   "outputs": [],
   "source": [
    "X_train.shape, X_test.shape, Y_train.shape, Y_test.shape, "
   ]
  },
  {
   "cell_type": "code",
   "execution_count": 9,
   "metadata": {
    "execution": {
     "iopub.execute_input": "2022-03-03T08:50:48.322973Z",
     "iopub.status.busy": "2022-03-03T08:50:48.320740Z",
     "iopub.status.idle": "2022-03-03T08:50:48.327628Z",
     "shell.execute_reply": "2022-03-03T08:50:48.326958Z",
     "shell.execute_reply.started": "2022-03-03T08:50:48.322936Z"
    }
   },
   "outputs": [],
   "source": [
    "#X_train = X_train.apply(lambda x: str(x[0], 'utf-8'))\n",
    "#X_test = X_test.apply(lambda x:  str(x[0], 'utf-8'))"
   ]
  },
  {
   "cell_type": "code",
   "execution_count": 10,
   "metadata": {
    "execution": {
     "iopub.execute_input": "2022-03-03T08:50:48.336711Z",
     "iopub.status.busy": "2022-03-03T08:50:48.331855Z",
     "iopub.status.idle": "2022-03-03T08:54:24.146174Z",
     "shell.execute_reply": "2022-03-03T08:54:24.145414Z",
     "shell.execute_reply.started": "2022-03-03T08:50:48.336675Z"
    }
   },
   "outputs": [],
   "source": [
    "#define a tokenizer object\n",
    "tokenizer = DistilBertTokenizer.from_pretrained(MODEL_NAME)\n",
    "#tokenize the text\n",
    "train_encodings = tokenizer(list(X_train.values),\n",
    "                            truncation=True, \n",
    "                            padding=True)\n",
    "test_encodings = tokenizer(list(X_test.values),\n",
    "                           truncation=True, \n",
    "                           padding=True)"
   ]
  },
  {
   "cell_type": "code",
   "execution_count": 11,
   "metadata": {
    "execution": {
     "iopub.execute_input": "2022-03-03T08:54:24.147834Z",
     "iopub.status.busy": "2022-03-03T08:54:24.147426Z",
     "iopub.status.idle": "2022-03-03T08:54:24.155264Z",
     "shell.execute_reply": "2022-03-03T08:54:24.154520Z",
     "shell.execute_reply.started": "2022-03-03T08:54:24.147797Z"
    }
   },
   "outputs": [],
   "source": [
    "print(f'1st text: \\'{X_train[:1]}\\'')\n",
    "print(f'Input ids: {train_encodings[\"input_ids\"][0]}')\n",
    "print(f'Attention mask: {train_encodings[\"attention_mask\"][0]}')"
   ]
  },
  {
   "cell_type": "code",
   "execution_count": 12,
   "metadata": {
    "execution": {
     "iopub.execute_input": "2022-03-03T08:54:24.157732Z",
     "iopub.status.busy": "2022-03-03T08:54:24.156408Z",
     "iopub.status.idle": "2022-03-03T09:01:41.355616Z",
     "shell.execute_reply": "2022-03-03T09:01:41.354862Z",
     "shell.execute_reply.started": "2022-03-03T08:54:24.157688Z"
    }
   },
   "outputs": [],
   "source": [
    "train_dataset = tf.data.Dataset.from_tensor_slices((dict(train_encodings),\n",
    "                                    list(Y_train.values)))\n",
    "test_dataset = tf.data.Dataset.from_tensor_slices((dict(test_encodings),\n",
    "                                    list(Y_test.values)))"
   ]
  },
  {
   "cell_type": "code",
   "execution_count": 13,
   "metadata": {
    "execution": {
     "iopub.execute_input": "2022-03-03T09:01:41.357243Z",
     "iopub.status.busy": "2022-03-03T09:01:41.356998Z",
     "iopub.status.idle": "2022-03-03T09:02:08.475629Z",
     "shell.execute_reply": "2022-03-03T09:02:08.474479Z",
     "shell.execute_reply.started": "2022-03-03T09:01:41.357212Z"
    }
   },
   "outputs": [],
   "source": [
    "model = TFDistilBertForSequenceClassification.from_pretrained(MODEL_NAME)\n",
    "#chose the optimizer\n",
    "optimizerr = tf.keras.optimizers.Adam(learning_rate=5e-5)\n",
    "#define the loss function \n",
    "losss = tf.keras.losses.SparseCategoricalCrossentropy(from_logits=True)\n",
    "#build the model\n",
    "model.compile(optimizer=optimizerr,\n",
    "              loss=losss,\n",
    "              metrics=['accuracy'])\n",
    "# train the model \n",
    "model.fit(train_dataset.shuffle(len(X_train)).batch(BATCH_SIZE),\n",
    "          epochs=N_EPOCHS,\n",
    "          batch_size=BATCH_SIZE)"
   ]
  },
  {
   "cell_type": "code",
   "execution_count": null,
   "metadata": {
    "execution": {
     "iopub.status.busy": "2022-03-03T09:02:08.476870Z",
     "iopub.status.idle": "2022-03-03T09:02:08.477442Z",
     "shell.execute_reply": "2022-03-03T09:02:08.477220Z",
     "shell.execute_reply.started": "2022-03-03T09:02:08.477195Z"
    }
   },
   "outputs": [],
   "source": [
    "# model evaluation on the test set\n",
    "model.evaluate(test_dataset.shuffle(len(X_test)).batch(BATCH_SIZE), \n",
    "               return_dict=True, \n",
    "               batch_size=BATCH_SIZE)\n"
   ]
  },
  {
   "cell_type": "code",
   "execution_count": null,
   "metadata": {},
   "outputs": [],
   "source": [
    "def predict_proba(text_list, model, tokenizer):  \n",
    "    #tokenize the text\n",
    "    encodings = tokenizer(text_list, \n",
    "                          max_length=MAX_LEN, \n",
    "                          truncation=True, \n",
    "                          padding=True)\n",
    "    #transform to tf.Dataset\n",
    "    dataset = tf.data.Dataset.from_tensor_slices((dict(encodings)))\n",
    "    #predict\n",
    "    preds = model.predict(dataset.batch(1)).logits  \n",
    "    \n",
    "    #transform to array with probabilities\n",
    "    res = tf.nn.softmax(preds, axis=1).numpy()      \n",
    "    \n",
    "    return res\n"
   ]
  }
 ],
 "metadata": {
  "kernelspec": {
   "display_name": "Python 3",
   "language": "python",
   "name": "python3"
  },
  "language_info": {
   "codemirror_mode": {
    "name": "ipython",
    "version": 3
   },
   "file_extension": ".py",
   "mimetype": "text/x-python",
   "name": "python",
   "nbconvert_exporter": "python",
   "pygments_lexer": "ipython3",
   "version": "3.8.8"
  }
 },
 "nbformat": 4,
 "nbformat_minor": 4
}
